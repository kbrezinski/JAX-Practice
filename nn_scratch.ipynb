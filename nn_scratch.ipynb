{
  "nbformat": 4,
  "nbformat_minor": 0,
  "metadata": {
    "colab": {
      "name": "nn_scratch.ipynb",
      "provenance": [],
      "collapsed_sections": [],
      "authorship_tag": "ABX9TyPrkEFG3kyIzBxRA5WderTg",
      "include_colab_link": true
    },
    "kernelspec": {
      "name": "python3",
      "display_name": "Python 3"
    },
    "language_info": {
      "name": "python"
    }
  },
  "cells": [
    {
      "cell_type": "markdown",
      "metadata": {
        "id": "view-in-github",
        "colab_type": "text"
      },
      "source": [
        "<a href=\"https://colab.research.google.com/github/kbrezinski/JAX-Practice/blob/main/nn_scratch.ipynb\" target=\"_parent\"><img src=\"https://colab.research.google.com/assets/colab-badge.svg\" alt=\"Open In Colab\"/></a>"
      ]
    },
    {
      "cell_type": "markdown",
      "metadata": {
        "id": "4xFgbl10jQDu"
      },
      "source": [
        "# MLP Training on MNIST"
      ]
    },
    {
      "cell_type": "code",
      "metadata": {
        "id": "2RQonGr7jThC"
      },
      "source": [
        "import numpy as np\n",
        "import jax.numpy as jnp\n",
        "from jax.scipy.special import logsumexp\n",
        "import jax\n",
        "from jax import jit, vmap, pmap, grad, value_and_grad\n",
        "\n",
        "from torchvision.datasets import MNIST\n",
        "from torch.utils.data import DataLoader"
      ],
      "execution_count": null,
      "outputs": []
    },
    {
      "cell_type": "code",
      "metadata": {
        "colab": {
          "base_uri": "https://localhost:8080/"
        },
        "id": "VFt9h0bBjsWQ",
        "outputId": "32bd15ef-8519-460b-f5ac-b8ce0e0c9c18"
      },
      "source": [
        "# constants\n",
        "seed = 0\n",
        "mnist_img_size = 784\n",
        "\n",
        "def init_MLP(layer_widths, parent_key, scale=0.01):\n",
        "\n",
        "  params = []\n",
        "  keys = jax.random.split(parent_key, num=len(layer_widths) - 1)\n",
        "\n",
        "  for in_width, out_width, key in zip(layer_widths[:-1], layer_widths[1:], keys):\n",
        "\n",
        "    weight_key, bias_key = jax.random.split(key)\n",
        "    params.append(\n",
        "        [scale * jax.random.normal(weight_key, shape=(out_width, in_width)), # weights = (hidden dims, input)\n",
        "         scale * jax.random.normal(bias_key, shape=(out_width,))]           # biases = (hidden_dims, 1)\n",
        "    )\n",
        "  return params\n",
        "\n",
        "parent_key = jax.jax.random.PRNGKey(seed)\n",
        "MLP_params = init_MLP([784, 512, 256, 10], parent_key)\n",
        "jax.tree_map(lambda x: x.shape, MLP_params)"
      ],
      "execution_count": null,
      "outputs": [
        {
          "output_type": "stream",
          "name": "stderr",
          "text": [
            "WARNING:absl:No GPU/TPU found, falling back to CPU. (Set TF_CPP_MIN_LOG_LEVEL=0 and rerun for more info.)\n"
          ]
        },
        {
          "output_type": "execute_result",
          "data": {
            "text/plain": [
              "[[(512, 784), (512,)], [(256, 512), (256,)], [(10, 256), (10,)]]"
            ]
          },
          "metadata": {},
          "execution_count": 2
        }
      ]
    },
    {
      "cell_type": "code",
      "metadata": {
        "id": "UuvWinf1kJMz",
        "colab": {
          "base_uri": "https://localhost:8080/"
        },
        "outputId": "b2d45804-a20c-4d4f-daae-f91f02c5a381"
      },
      "source": [
        "def predict_MLP(params, x):\n",
        "\n",
        "  hidden_layers = params[:-1]\n",
        "\n",
        "  activation = x\n",
        "  for w, b in hidden_layers:\n",
        "    # ReLu( dot((512, 784)(784, 1)))\n",
        "    activation = jax.nn.relu(jnp.dot(w, activation) + b)\n",
        "\n",
        "  w_last, b_last = params[-1]\n",
        "  logits = jnp.dot(w_last, activation) + b_last\n",
        "\n",
        "  # mimics the same behavior as the softmax\n",
        "  return logits - logsumexp(logits) # log(exp(o1)) - log(sum(exp(01), exp(02), ..., exp(03)))\n",
        "\n",
        "\n",
        "# Create single fake image\n",
        "dummy_img_flat = np.random.randn(mnist_img_size)\n",
        "prediction = predict_MLP(MLP_params, dummy_img_flat)\n",
        "assert dummy_img_flat.shape == (784,)\n",
        "\n",
        "# Create batch of fake images\n",
        "dummy_imgs_flat = np.random.randn(16, np.prod(mnist_img_size))\n",
        "assert dummy_imgs_flat.shape == (16, 784)\n",
        "\n",
        "# Test batched function on batched MP predict, where 0 axis is the batch dim\n",
        "batched_MLP_predict = vmap(predict_MLP, in_axes=(None, 0))\n",
        "predictions = batched_MLP_predict(MLP_params, dummy_imgs_flat)\n",
        "print(predictions.shape)"
      ],
      "execution_count": null,
      "outputs": [
        {
          "output_type": "stream",
          "name": "stdout",
          "text": [
            "(16, 10)\n"
          ]
        }
      ]
    },
    {
      "cell_type": "code",
      "metadata": {
        "id": "nPODYGOZoqIX",
        "colab": {
          "base_uri": "https://localhost:8080/"
        },
        "outputId": "963e2108-eb0a-46df-cc9c-d03d99367950"
      },
      "source": [
        "def custom_transform(x):\n",
        "    return np.ravel(np.array(x, dtype=np.float32))\n",
        "\n",
        "def custom_collate_fn(batch):\n",
        "    transposed_data = list(zip(*batch))\n",
        "\n",
        "    labels = np.array(transposed_data[1])\n",
        "    imgs = np.stack(transposed_data[0])\n",
        "\n",
        "    return imgs, labels\n",
        "\n",
        "batch_size = 128\n",
        "train_dataset = MNIST(root='train_mnist', train=True, download=True, transform=custom_transform)\n",
        "test_dataset = MNIST(root='test_mnist', train=False, download=True, transform=custom_transform)\n",
        "\n",
        "train_loader = DataLoader(train_dataset, batch_size, shuffle=True, collate_fn=custom_collate_fn, drop_last=True)\n",
        "test_loader = DataLoader(test_dataset, batch_size, shuffle=False, collate_fn=custom_collate_fn, drop_last=True)\n",
        "\n",
        "# test\n",
        "batch_data = next(iter(train_loader))\n",
        "imgs = batch_data[0]\n",
        "lbls = batch_data[1]\n",
        "print(imgs.shape, imgs[0].dtype, lbls.shape, lbls[0].dtype)\n",
        "\n",
        "# optimization - loading the whole dataset into memory\n",
        "train_images = jnp.array(train_dataset.data).reshape(len(train_dataset), -1)\n",
        "train_lbls = jnp.array(train_dataset.targets)\n",
        "\n",
        "test_images = jnp.array(test_dataset.data).reshape(len(test_dataset), -1)\n",
        "test_lbls = jnp.array(test_dataset.targets)"
      ],
      "execution_count": null,
      "outputs": [
        {
          "output_type": "stream",
          "name": "stdout",
          "text": [
            "(128, 784) float32 (128,) int64\n"
          ]
        }
      ]
    },
    {
      "cell_type": "code",
      "source": [
        "def loss_fn(params, imgs, gt_lbls):\n",
        "    predictions = batched_MLP_predict(params, imgs)\n",
        "    return -jnp.mean(predictions * gt_lbls)\n",
        "\n",
        "def accuracy(params, dataset_imgs, dataset_lbls):\n",
        "    pred_classes = jnp.argmax(batched_MLP_predict(params, dataset_imgs), axis=1)\n",
        "    return jnp.mean(dataset_lbls == pred_classes)\n",
        "\n",
        "@jit\n",
        "def update(params, imgs, gt_labels, lr=0.01):\n",
        "  loss, grad = value_and_grad(loss_fn)(params, imgs, gt_labels)\n",
        "  return loss, jax.tree_multimap(lambda p, g: p - lr*g, params, grad)\n",
        "\n",
        "MLP_params = init_MLP([np.prod(mnist_img_size), 512, 256, len(MNIST.classes)], parent_key)\n",
        "\n",
        "## training loop\n",
        "for epoch in range(5):\n",
        "  for i, (imgs, labels) in enumerate(train_loader):\n",
        "\n",
        "    one_hot_labels = jax.nn.one_hot(labels, len(MNIST.classes))\n",
        "    loss, MLP_params = update(MLP_params, imgs, one_hot_labels)\n",
        "\n",
        "    if i % 50 == 0:\n",
        "      print(loss)\n",
        "\n",
        "  print(f'Epoch {epoch}, train acc = {accuracy(MLP_params, imgs, labels)}') "
      ],
      "metadata": {
        "id": "-cqL_WaXzXFH"
      },
      "execution_count": null,
      "outputs": []
    },
    {
      "cell_type": "code",
      "source": [
        "## visualize the weights\n",
        "import matplotlib.pyplot as plt\n",
        "\n",
        "w = MLP_params[0][0]\n",
        "print(jax.tree_map(lambda x: x.shape, MLP_params))\n",
        "w_single = w[501, :].reshape(28, 28)  # look at the 500th embedding\n",
        "plt.imshow(w_single)"
      ],
      "metadata": {
        "colab": {
          "base_uri": "https://localhost:8080/",
          "height": 302
        },
        "id": "Ji8Zz26o1_DO",
        "outputId": "6446e74c-fc88-4fc1-e8f8-6a3d24ebd8ee"
      },
      "execution_count": null,
      "outputs": [
        {
          "output_type": "stream",
          "name": "stdout",
          "text": [
            "[[(512, 784), (512,)], [(256, 512), (256,)], [(10, 256), (10,)]]\n"
          ]
        },
        {
          "output_type": "execute_result",
          "data": {
            "text/plain": [
              "<matplotlib.image.AxesImage at 0x7fb1a132fed0>"
            ]
          },
          "metadata": {},
          "execution_count": 55
        },
        {
          "output_type": "display_data",
          "data": {
            "image/png": "[encoded data removed]",
            "text/plain": [
              "<Figure size 432x288 with 1 Axes>"
            ]
          },
          "metadata": {
            "needs_background": "light"
          }
        }
      ]
    },
    {
      "cell_type": "code",
      "source": [
        "from sklearn.manifold import TSNE\n",
        "\n",
        "def fetch_activations(params, x):\n",
        "    hidden_layers = params[:-1]\n",
        "\n",
        "    activation = x\n",
        "    for w, b in hidden_layers:\n",
        "        activation = jax.nn.relu(jnp.dot(w, activation) + b)\n",
        "\n",
        "    return activation\n",
        "\n",
        "# fetch the activations of \n",
        "batched_fetch_activations = vmap(fetch_activations, in_axes=(None, 0))\n",
        "imgs, lbls = next(iter(test_loader))  # (128, 784)\n",
        "\n",
        "# fetch activation up until the final layer\n",
        "batch_activations = batched_fetch_activations(MLP_params, imgs)\n",
        "print(batch_activations.shape)  # (128, 256) after t-SNE will be (128, 2)"
      ],
      "metadata": {
        "colab": {
          "base_uri": "https://localhost:8080/"
        },
        "id": "p44iP70D5C8p",
        "outputId": "b73e52f9-a6d4-4b48-cea4-2a3cb7d39b48"
      },
      "execution_count": null,
      "outputs": [
        {
          "output_type": "stream",
          "name": "stdout",
          "text": [
            "(128, 256)\n"
          ]
        }
      ]
    },
    {
      "cell_type": "code",
      "source": [
        ""
      ],
      "metadata": {
        "id": "6pxqs6Nh7LpN"
      },
      "execution_count": null,
      "outputs": []
    }
  ]
}