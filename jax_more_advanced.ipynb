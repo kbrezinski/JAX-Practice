{
  "nbformat": 4,
  "nbformat_minor": 0,
  "metadata": {
    "colab": {
      "name": "jax_more_advanced.ipynb",
      "provenance": [],
      "collapsed_sections": [],
      "authorship_tag": "ABX9TyNFYrsshAgf8vVzIe/f0oiP",
      "include_colab_link": true
    },
    "kernelspec": {
      "name": "python3",
      "display_name": "Python 3"
    },
    "language_info": {
      "name": "python"
    }
  },
  "cells": [
    {
      "cell_type": "markdown",
      "metadata": {
        "id": "view-in-github",
        "colab_type": "text"
      },
      "source": [
        "<a href=\"https://colab.research.google.com/github/kbrezinski/JAX-Practice/blob/main/jax_more_advanced.ipynb\" target=\"_parent\"><img src=\"https://colab.research.google.com/assets/colab-badge.svg\" alt=\"Open In Colab\"/></a>"
      ]
    },
    {
      "cell_type": "code",
      "execution_count": 1,
      "metadata": {
        "id": "bca99v8c2nQr"
      },
      "outputs": [],
      "source": [
        "import jax\n",
        "import jax.numpy as jnp\n",
        "from jax import random\n",
        "\n",
        "import numpy as np\n",
        "import functools\n",
        "import matplotlib.pyplot as plt\n",
        "\n",
        "from jax import grad, jit, vmap, pmap\n",
        "from copy import deepcopy\n",
        "from typing import Tuple, NamedTuple"
      ]
    },
    {
      "cell_type": "code",
      "source": [
        "## Setup PRNG\n",
        "seed = 0\n",
        "state = jax.random.PRNGKey(seed)\n",
        "state1, state2 = jax.random.split(state)"
      ],
      "metadata": {
        "id": "pSo0et6aF1yt"
      },
      "execution_count": 5,
      "outputs": []
    },
    {
      "cell_type": "code",
      "source": [
        "class Counter:\n",
        "  def __init__(self):\n",
        "    self.n = 0\n",
        "\n",
        "  def count(self) -> int:\n",
        "    self.n += 1\n",
        "    return self.n\n",
        "\n",
        "  def reset(self):\n",
        "    self.n = 0\n",
        "\n",
        "counter = Counter()\n",
        "for i in range(3):\n",
        "  print(counter.count())  # counter works as expected\n",
        "\n",
        "fast_count = jit(counter.count())  # doesn't work"
      ],
      "metadata": {
        "colab": {
          "base_uri": "https://localhost:8080/"
        },
        "id": "NIFSEcdCGDB_",
        "outputId": "651937bf-ec45-4666-d1dd-5ce8b2a2a445"
      },
      "execution_count": 9,
      "outputs": [
        {
          "output_type": "stream",
          "name": "stdout",
          "text": [
            "1\n",
            "2\n",
            "3\n"
          ]
        }
      ]
    },
    {
      "cell_type": "code",
      "source": [
        "## still dont understand this implementation. Includes a value and state. \n",
        "CounterState = int\n",
        "\n",
        "class Counter2:\n",
        "  def count(self, n: CounterState) -> Tuple[int, CounterState]:\n",
        "    return n + 1, n + 1\n",
        "\n",
        "  def reset(self) -> CounterState:\n",
        "    return 0\n",
        "\n",
        "counter = Counter2()\n",
        "## loop through non-jitted version, but with state\n",
        "state = counter.reset()\n",
        "\n",
        "for _ in range(3):\n",
        "  value, state = counter.count(state)\n",
        "  print(value)\n",
        "\n",
        "## loop through jitted version, but with state\n",
        "state = counter.reset()\n",
        "fast_count = jax.jit(counter.count)\n",
        "\n",
        "for _ in range(3):\n",
        "  value, state = fast_count(state)\n",
        "  print(value)"
      ],
      "metadata": {
        "colab": {
          "base_uri": "https://localhost:8080/"
        },
        "id": "24gKbLpDGOCA",
        "outputId": "ed7b69ef-84a4-4662-c9f0-69ea44edebbb"
      },
      "execution_count": 26,
      "outputs": [
        {
          "output_type": "stream",
          "name": "stdout",
          "text": [
            "1\n",
            "2\n",
            "3\n",
            "1\n",
            "2\n",
            "3\n"
          ]
        }
      ]
    },
    {
      "cell_type": "code",
      "source": [
        "list_of_lists = [\n",
        "      {'a': 3},\n",
        "      [1, 2, 3],\n",
        "      [1, 2],\n",
        "      [1, 2, 3, 4]\n",
        "]\n",
        "\n",
        "# use tree_map for single arg functions\n",
        "print(jax.tree_map(lambda x: x*2, list_of_lists))\n",
        "print(jax.tree_multimap(lambda x, y: x + y, list_of_lists, list_of_lists))\n",
        "\n",
        "# adding an element wil cause a mismatch between the lengths of both lists"
      ],
      "metadata": {
        "colab": {
          "base_uri": "https://localhost:8080/"
        },
        "id": "WeEvh0vHHl1T",
        "outputId": "26932a8f-55b2-4369-c9eb-8b65664683d9"
      },
      "execution_count": 30,
      "outputs": [
        {
          "output_type": "stream",
          "name": "stdout",
          "text": [
            "[{'a': 6}, [2, 4, 6], [2, 4], [2, 4, 6, 8]]\n",
            "[{'a': 6}, [2, 4, 6], [2, 4], [2, 4, 6, 8]]\n"
          ]
        }
      ]
    },
    {
      "cell_type": "code",
      "source": [
        "## MLP init example\n",
        "def init_MLP_params(layer_widths):\n",
        "  params = []\n",
        "\n",
        "  for n_in, n_out in zip(layer_widths[:-1], layer_widths[1:]):\n",
        "    params.append(\n",
        "        dict(weights=np.random.normal(size=(n_in, n_out)) * np.sqrt(2 / n_in),\n",
        "             biases=np.ones(shape=(n_out,)))\n",
        "    )\n",
        "\n",
        "  return params\n",
        "\n",
        "params = init_MLP_params([1, 128, 128, 1])\n",
        "jax.tree_map(lambda x: x.shape, params)"
      ],
      "metadata": {
        "colab": {
          "base_uri": "https://localhost:8080/"
        },
        "id": "qwkhQqzeWlnk",
        "outputId": "e413af85-cce5-41c8-9278-a97b7b74d040"
      },
      "execution_count": 32,
      "outputs": [
        {
          "output_type": "execute_result",
          "data": {
            "text/plain": [
              "[{'biases': (128,), 'weights': (1, 128)},\n",
              " {'biases': (128,), 'weights': (128, 128)},\n",
              " {'biases': (1,), 'weights': (128, 1)}]"
            ]
          },
          "metadata": {},
          "execution_count": 32
        }
      ]
    },
    {
      "cell_type": "code",
      "source": [
        "def forward(params, x):\n",
        "  *hidden, last = params\n",
        "\n",
        "  for layer in hidden:\n",
        "    x = jax.nn.relu(jnp.dot(x, layer['weights']) + layer['biases'])\n",
        "\n",
        "  return jnp.dot(x, last['weights']) + last['biases']\n",
        "\n",
        "def loss_fn(params, x, y):\n",
        "  return jnp.mean((forward(params, x) - y) ** 2)\n",
        "\n",
        "lr = 0.001\n",
        "\n",
        "@jit\n",
        "def update(params, x, y):\n",
        "  grads = jax.grad(loss_fn)(params, x, y)\n",
        "  return jax.tree_multimap(\n",
        "      lambda p, g: p - lr * g, params, grads)"
      ],
      "metadata": {
        "id": "nKIH0Yd4X2Ib"
      },
      "execution_count": 33,
      "outputs": []
    },
    {
      "cell_type": "code",
      "source": [
        "x = np.random.normal(size=(128, 1))\n",
        "y = x ** 2\n",
        "\n",
        "for _ in range(5000):\n",
        "  params = update(params, x, y)"
      ],
      "metadata": {
        "id": "2_Z5UdwnZp6y"
      },
      "execution_count": 34,
      "outputs": []
    },
    {
      "cell_type": "code",
      "source": [
        ""
      ],
      "metadata": {
        "id": "QR6eHh2QZ8ty"
      },
      "execution_count": null,
      "outputs": []
    }
  ]
}