{
 "cells": [
  {
   "cell_type": "markdown",
   "metadata": {
    "colab_type": "text",
    "id": "view-in-github"
   },
   "source": [
    "<a href=\"https://colab.research.google.com/github/kbrezinski/GAT-Malware/blob/main/complexity_MLP.ipynb\" target=\"_parent\"><img src=\"https://colab.research.google.com/assets/colab-badge.svg\" alt=\"Open In Colab\"/></a>"
   ]
  },
  {
   "cell_type": "code",
   "execution_count": null,
   "metadata": {
    "id": "RWbPwnMQPk-E"
   },
   "outputs": [],
   "source": [
    "import numpy as np\n",
    "import jax.numpy as jnp\n",
    "from jax.scipy.special import logsumexp\n",
    "import jax\n",
    "from jax import jit, vmap, pmap, grad, value_and_grad\n",
    "\n",
    "from torchvision.datasets import MNIST\n",
    "from torch.utils.data import DataLoader"
   ]
  },
  {
   "cell_type": "code",
   "execution_count": null,
   "metadata": {
    "colab": {
     "base_uri": "https://localhost:8080/"
    },
    "id": "DC5aw30SPrE_",
    "outputId": "d29fd6a0-2145-40f0-a01c-1c292097b82f"
   },
   "outputs": [],
   "source": [
    "# constants\n",
    "seed = 2022\n",
    "feature_dim = 2\n",
    "output_dim = 1\n",
    "\n",
    "def init_model(layer_widths, parent_key):\n",
    "\n",
    "  def random_layer_params(n_in, n_out, key, scale=1e-2):\n",
    "    k1, k2 = jax.random.split(key)\n",
    "    return (scale * jax.random.normal(k1, (n_out, n_in)),\n",
    "            scale * jax.random.normal(k2, (n_out, )))\n",
    "    \n",
    "  # split keys for each layer\n",
    "  keys = jax.random.split(parent_key, num=len(layer_widths) - 1)\n",
    "\n",
    "  return [random_layer_params(n_in, n_out, key)\n",
    "        for n_in, n_out, key in zip(layer_widths[:-1], layer_widths[1:], keys)]\n",
    "\n",
    "parent_key = jax.jax.random.PRNGKey(seed)\n",
    "params = init_model([feature_dim, 16, output_dim], parent_key)\n",
    "jax.tree_map(lambda x: x.shape, params)"
   ]
  },
  {
   "cell_type": "code",
   "execution_count": null,
   "metadata": {
    "id": "4NAv3DfqXJ7c"
   },
   "outputs": [],
   "source": [
    "from sklearn.datasets import make_blobs\n",
    "import matplotlib.pyplot as plt\n",
    "\n",
    "# Generate fake data based on blobs with 2 features\n",
    "centers = [[1, 1], [-1, -1]]\n",
    "X, y = make_blobs(n_samples=[800, 200], centers=centers, cluster_std=1)"
   ]
  },
  {
   "cell_type": "code",
   "execution_count": null,
   "metadata": {
    "id": "lFM-noW6YKeR"
   },
   "outputs": [],
   "source": [
    "def predict(params, x):\n",
    "  activations = x\n",
    "\n",
    "  for w, b in params[:-1]:\n",
    "    activations = jax.nn.relu(jnp.dot(w, activations) + b)\n",
    "\n",
    "  final_w, final_b = params[-1]\n",
    "  logits = jnp.dot(final_w, activations) + final_b\n",
    "  return jax.nn.sigmoid(logits)\n",
    "\n",
    "def accuracy(params, x, y):\n",
    "  preds = batched_predict(params, x)\n",
    "  predicted_class = jnp.round(preds)\n",
    "  return jnp.mean(predicted_class == y)\n",
    "\n",
    "def loss(params, x, y, lmbda=1e-1):\n",
    "  preds = batched_predict(params, x)\n",
    "  pred = jnp.clip(preds, 1e-14, 1 - 1e-14)  # bound the probabilities to avoid log(0)\n",
    "  return -jnp.mean(y * jnp.log(pred) + (1 - y) * jnp.log(1 - pred))\n",
    "\n",
    "@jit\n",
    "def update(params, x, y, lr=5e-2):\n",
    "  curr_loss, grads = value_and_grad(loss)(params, x, y)\n",
    "  return curr_loss, jax.tree_multimap(lambda p, g: p - lr*g, params, grads)\n",
    "\n",
    "batched_predict = vmap(predict, in_axes=(None, 0))"
   ]
  },
  {
   "cell_type": "code",
   "execution_count": null,
   "metadata": {
    "colab": {
     "base_uri": "https://localhost:8080/"
    },
    "id": "MEAlKeE3aLDV",
    "outputId": "821627c2-3b5f-4fae-a847-d13245695973"
   },
   "outputs": [],
   "source": [
    "params = init_model([feature_dim, 8, output_dim], parent_key)\n",
    "\n",
    "num_epochs = 5000\n",
    "\n",
    "## training loop\n",
    "for epoch in range(num_epochs):\n",
    "  \n",
    "  curr_loss, params = update(params, X[:800], y[:800])\n",
    "\n",
    "  if epoch % (num_epochs // 5) == 0:\n",
    "    print(f\"\\nEpoch: {epoch + 1}\")\n",
    "    print(f\"Loss: {curr_loss:.4f}\")\n",
    "    print(f\"Train Accuracy: {accuracy(params, X[:800], y[:800]):.4f}\")\n",
    "    print(f\"Test Accuracy: {accuracy(params, X[800:], y[800:]):.4f}\")"
   ]
  },
  {
   "cell_type": "code",
   "execution_count": null,
   "metadata": {
    "colab": {
     "base_uri": "https://localhost:8080/"
    },
    "id": "Y113XifVSeGI",
    "outputId": "8ed8fd37-00d8-44a0-f439-02c9d5a39b3c"
   },
   "outputs": [],
   "source": [
    "print(y[800:805])\n",
    "accuracy(params, X[800:805], y[800:805])"
   ]
  },
  {
   "cell_type": "code",
   "execution_count": null,
   "metadata": {
    "id": "6Ww_FtDVYkp1"
   },
   "outputs": [],
   "source": [
    "jax.random.shuffle(key=parent_key, x=X)"
   ]
  },
  {
   "cell_type": "code",
   "execution_count": null,
   "metadata": {
    "id": "48SRYPPlbcLc"
   },
   "outputs": [],
   "source": []
  }
 ],
 "metadata": {
  "colab": {
   "authorship_tag": "ABX9TyO79ZSEAOb7oDQQa/xbys7x",
   "include_colab_link": true,
   "name": "complexity_MLP",
   "provenance": []
  },
  "kernelspec": {
   "display_name": "Python [conda env:GAT]",
   "language": "python",
   "name": "conda-env-GAT-py"
  },
  "language_info": {
   "codemirror_mode": {
    "name": "ipython",
    "version": 3
   },
   "file_extension": ".py",
   "mimetype": "text/x-python",
   "name": "python",
   "nbconvert_exporter": "python",
   "pygments_lexer": "ipython3",
   "version": "3.8.5"
  }
 },
 "nbformat": 4,
 "nbformat_minor": 4
}
