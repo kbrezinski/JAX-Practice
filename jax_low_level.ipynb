{
 "cells": [
  {
   "cell_type": "markdown",
   "metadata": {
    "colab_type": "text",
    "id": "view-in-github"
   },
   "source": [
    "<a href=\"https://colab.research.google.com/github/kbrezinski/JAX-Practice/blob/main/jax_low_level.ipynb\" target=\"_parent\"><img src=\"https://colab.research.google.com/assets/colab-badge.svg\" alt=\"Open In Colab\"/></a>"
   ]
  },
  {
   "cell_type": "code",
   "execution_count": 2,
   "metadata": {
    "id": "Wc3gyWu4uaXq"
   },
   "outputs": [],
   "source": [
    "import jax.numpy as jnp\n",
    "import numpy as np\n",
    "\n",
    "# special transformations\n",
    "from jax import grad, jit, vmap, pmap\n",
    "# JAX low level APIs\n",
    "from jax import lax, make_jaxpr, random, device_put"
   ]
  },
  {
   "cell_type": "code",
   "execution_count": null,
   "metadata": {
    "id": "ZwKvFaB0ujIb"
   },
   "outputs": [],
   "source": [
    "# numpy <- lax <= XLA\n",
    "jnp.add(1, 1.) # handles mixed types\n",
    "lax.add(1, 1.0) # error, mixed types"
   ]
  },
  {
   "cell_type": "code",
   "execution_count": null,
   "metadata": {
    "colab": {
     "base_uri": "https://localhost:8080/"
    },
    "id": "N89xGXTgvFFm",
    "outputId": "a60c6bc0-5d8e-4415-d2ee-256a9e5568c8"
   },
   "outputs": [
    {
     "data": {
      "text/plain": [
       "DeviceArray([1., 3., 4., 4., 4., 4., 4., 4., 4., 4., 3., 1.], dtype=float32)"
      ]
     },
     "execution_count": 9,
     "metadata": {},
     "output_type": "execute_result"
    }
   ],
   "source": [
    "# test out two implementations, 1 with jnp and 1 with lax\n",
    "x = jnp.array([1, 2, 1])\n",
    "y = jnp.ones(10)\n",
    "\n",
    "res1 = jnp.convolve(x, y)\n",
    "res2 = lax.conv_general_dilated(\n",
    "    x.reshape(1,1,3).astype(float),\n",
    "    y.reshape(1,1,10),\n",
    "    window_strides=(1,),\n",
    "    padding=[(len(y) - 1, len(y) - 1)]\n",
    ")\n",
    "\n",
    "res2[0][0] ## use [0][0] to return batched result"
   ]
  },
  {
   "cell_type": "code",
   "execution_count": null,
   "metadata": {
    "id": "79DPyNPXxVwu"
   },
   "outputs": [],
   "source": [
    "# in Jax random numbers are stateful, need to be passed in as args\n",
    "k = random.PRNGKey(2021)"
   ]
  },
  {
   "cell_type": "code",
   "execution_count": null,
   "metadata": {
    "id": "adPWESn_vetc"
   },
   "outputs": [],
   "source": [
    "# small differences in time taken for normal and jitted versions\n",
    "def norm(X):\n",
    "  X = X - X.mean(0)\n",
    "  return X / X.std(0)\n",
    "\n",
    "norm_compiled = jit(norm)\n",
    "X = random.normal(k, (10000, 100), dtype=jnp.float32)"
   ]
  },
  {
   "cell_type": "code",
   "execution_count": null,
   "metadata": {
    "colab": {
     "base_uri": "https://localhost:8080/"
    },
    "id": "5T932gDcxIKI",
    "outputId": "1dad6dd6-e7b0-47b8-898b-babe88c29c5e"
   },
   "outputs": [
    {
     "data": {
      "text/plain": [
       "DeviceArray([-1.906434  , -0.04492167, -0.5956922 , -0.3326311 ,\n",
       "             -2.6711135 ], dtype=float32)"
      ]
     },
     "execution_count": 18,
     "metadata": {},
     "output_type": "execute_result"
    }
   ],
   "source": [
    "# test an example of a jitted and non-jitted fn to see what jit allows\n",
    "def get_negative(x):\n",
    "  return x[x < 0]\n",
    "\n",
    "x = random.normal(k, (10,), dtype=jnp.float32)\n",
    "\n",
    "jit(get_negative)(x) # returns error, different potential sizes confuses jit\n",
    "# printing in a function sometimes is lost due to tracing, cachine mechanism causes side effects"
   ]
  },
  {
   "cell_type": "code",
   "execution_count": null,
   "metadata": {
    "colab": {
     "base_uri": "https://localhost:8080/"
    },
    "id": "h-iIHV39zJLJ",
    "outputId": "b1f7ab27-cc1e-4cc1-aee3-8a6ff7bd3514"
   },
   "outputs": [
    {
     "name": "stdout",
     "output_type": "stream",
     "text": [
      "Traced<ShapedArray(int32[], weak_type=True)>with<DynamicJaxprTrace(level=0/1)>\n",
      "Traced<ShapedArray(int32[], weak_type=True)>with<DynamicJaxprTrace(level=0/1)>\n"
     ]
    },
    {
     "data": {
      "text/plain": [
       "DeviceArray(1, dtype=int32, weak_type=True)"
      ]
     },
     "execution_count": 8,
     "metadata": {},
     "output_type": "execute_result"
    }
   ],
   "source": [
    "# another example of failure\n",
    "@jit\n",
    "def f(x, neg):\n",
    "  return -x if neg else x\n",
    "\n",
    "# f(1, True) # cannot depend on neg\n",
    "\n",
    "from functools import partial\n",
    "@partial(jit, static_argnums=(1,))\n",
    "def f(x, neg):\n",
    "  print(x)\n",
    "  return -x if neg else x\n",
    "\n",
    "f(1, True) # works because True is set to false\n",
    "f(1, False) # works because Works, and caches again since static arg changes"
   ]
  },
  {
   "cell_type": "code",
   "execution_count": null,
   "metadata": {
    "colab": {
     "base_uri": "https://localhost:8080/"
    },
    "id": "Ucp2k3lQTeVP",
    "outputId": "35a082a3-97b4-4d42-de2e-273a9b0a657a"
   },
   "outputs": [
    {
     "data": {
      "text/plain": [
       "DeviceArray([1., 1., 1., 1., 1., 1.], dtype=float32)"
      ]
     },
     "execution_count": 10,
     "metadata": {},
     "output_type": "execute_result"
    }
   ],
   "source": [
    "# use numpy prod instead of jnz\n",
    "@jit\n",
    "def f(x):\n",
    "  return x.reshape((np.prod(x.shape),))\n",
    "  #return x.reshape(jnp.array(x.shape).prod()) # doesn't work\n",
    "\n",
    "x = jnp.ones((2,3))\n",
    "f(x)"
   ]
  },
  {
   "cell_type": "code",
   "execution_count": null,
   "metadata": {
    "colab": {
     "base_uri": "https://localhost:8080/"
    },
    "id": "RwaUFK5FUvcL",
    "outputId": "2d430f04-d388-410c-cd24-7edf63df97b1"
   },
   "outputs": [
    {
     "data": {
      "text/plain": [
       "{'even': DeviceArray(25., dtype=float32, weak_type=True),\n",
       " 'odd': DeviceArray(25., dtype=float32, weak_type=True)}"
      ]
     },
     "execution_count": 18,
     "metadata": {},
     "output_type": "execute_result"
    }
   ],
   "source": [
    "# pure function can still be stateful within a function\n",
    "def pure_internal_state(x):\n",
    "  state = dict(even=0, odd=0)\n",
    "  for i in range(10):\n",
    "    state['even' if i % 2 ==0 else 'odd'] += x\n",
    "\n",
    "  return state\n",
    "\n",
    "jit(pure_internal_state)(5.)"
   ]
  },
  {
   "cell_type": "code",
   "execution_count": null,
   "metadata": {
    "colab": {
     "base_uri": "https://localhost:8080/"
    },
    "id": "KLMULktIYAOy",
    "outputId": "5b02c328-1aa7-4a7f-993c-b5b9178eeed7"
   },
   "outputs": [
    {
     "data": {
      "text/plain": [
       "DeviceArray(0, dtype=int32, weak_type=True)"
      ]
     },
     "execution_count": 24,
     "metadata": {},
     "output_type": "execute_result"
    }
   ],
   "source": [
    "# no use of iterators as they are stateful\n",
    "arr = jnp.arange(10)\n",
    "lax.fori_loop(0, 10, lambda i,x: x + arr[i], 0) # smart version of for loop in XLA\n",
    "\n",
    "iterator = iter(range(10))\n",
    "lax.fori_loop(0, 10, lambda i,x: x + next(iterator),0) # doesn't work since iterators have internal state"
   ]
  },
  {
   "cell_type": "code",
   "execution_count": null,
   "metadata": {
    "colab": {
     "base_uri": "https://localhost:8080/"
    },
    "id": "6o9Mn9ULZTKp",
    "outputId": "e6102536-498e-4264-b674-1461e2b7e8b4"
   },
   "outputs": [
    {
     "data": {
      "text/plain": [
       "DeviceArray(9, dtype=int32)"
      ]
     },
     "execution_count": 25,
     "metadata": {},
     "output_type": "execute_result"
    }
   ],
   "source": [
    "jnp.arange(10).at[11].add(23) # doesnt return exception where index 11 does not exist\n",
    "jnp.arange(10)[11] # index 11 does not exist, still reuturns 9th element"
   ]
  },
  {
   "cell_type": "code",
   "execution_count": null,
   "metadata": {
    "colab": {
     "base_uri": "https://localhost:8080/"
    },
    "id": "Rfp7YZ3bbLUk",
    "outputId": "5934aa22-9c3e-4ca0-e99b-cea9ce41cfc3"
   },
   "outputs": [
    {
     "name": "stdout",
     "output_type": "stream",
     "text": [
      "6\n",
      "sum requires ndarray or scalar arguments, got <class 'list'> at position 0.\n"
     ]
    },
    {
     "data": {
      "text/plain": [
       "DeviceArray(45, dtype=int32)"
      ]
     },
     "execution_count": 30,
     "metadata": {},
     "output_type": "execute_result"
    }
   ],
   "source": [
    "## demonstrate how jax works for lists\n",
    "print(np.sum([1, 2, 3]))\n",
    "\n",
    "# doesnt work since jax needs numpy array\n",
    "try:\n",
    "  jnp.sum([1,2,3])\n",
    "except TypeError as e:\n",
    "  print(f\"{e}\")\n",
    "\n",
    "# jax implementation\n",
    "def permissive_sum(x):\n",
    "  return jnp.sum(jnp.array(x))\n",
    "\n",
    "# inefficient since each element of the list is passed element by element\n",
    "x = list(range(10))\n",
    "jit(permissive_sum)(x)"
   ]
  },
  {
   "cell_type": "code",
   "execution_count": 7,
   "metadata": {
    "colab": {
     "base_uri": "https://localhost:8080/"
    },
    "id": "y0CJHz8CcZMf",
    "outputId": "8ffd0dbc-a8f7-49e3-c327-116423cbb0be"
   },
   "outputs": [
    {
     "name": "stdout",
     "output_type": "stream",
     "text": [
      "[2577092553 4257035648] [122864973 417621807]\n"
     ]
    }
   ],
   "source": [
    "## JAX state is preserved, will not fetch from stream but will produce the same result\n",
    "k = random.PRNGKey(2021)\n",
    "random.normal(k, shape=(1,))\n",
    "random.normal(k, shape=(1,))\n",
    "\n",
    "## use .split to produce your new subkeys\n",
    "key, subkey = random.split(k)\n",
    "print(key, subkey)\n",
    "\n",
    "## depending on how its parallized, bar() and baz() will process at different times\n",
    "def foo(): return bar() + 2 * baz()"
   ]
  },
  {
   "cell_type": "code",
   "execution_count": 9,
   "metadata": {
    "colab": {
     "base_uri": "https://localhost:8080/"
    },
    "id": "YlTPTUN4RSnc",
    "outputId": "e4293000-7b9c-4020-ca6a-64cefe26fa1b"
   },
   "outputs": [
    {
     "data": {
      "text/plain": [
       "array([-0.1612621, -0.6834863, -0.3388812], dtype=float32)"
      ]
     },
     "execution_count": 9,
     "metadata": {},
     "output_type": "execute_result"
    }
   ],
   "source": [
    "## numpy implementation\n",
    "seed = 2021\n",
    "np.random.seed(2021)\n",
    "\n",
    "## these two functions will return the same values; numpy is stateful\n",
    "np.stack([np.random.uniform() for _ in range(3)])\n",
    "np.random.uniform(size=3)\n",
    "\n",
    "## JAX implementation\n",
    "k = random.PRNGKey(seed)\n",
    "subkeys = random.split(k, 3) # produce 3 keys\n",
    "\n",
    "## these two produce different results\n",
    "np.stack([random.normal(subkey) for subkey in subkeys])\n",
    "random.normal(key, shape=(3,1))"
   ]
  },
  {
   "cell_type": "code",
   "execution_count": 11,
   "metadata": {
    "colab": {
     "base_uri": "https://localhost:8080/"
    },
    "id": "evZO5CvIUYY5",
    "outputId": "efb8f56c-f6d3-460e-eead-737df5cbbde4"
   },
   "outputs": [
    {
     "data": {
      "text/plain": [
       "DeviceArray(-4., dtype=float32)"
      ]
     },
     "execution_count": 11,
     "metadata": {},
     "output_type": "execute_result"
    }
   ],
   "source": [
    "## Python control flow\n",
    "def f(x):\n",
    "  if x < 3:\n",
    "    return 3. * x ** 2\n",
    "  else:\n",
    "    return -4 * x\n",
    "\n",
    "# Works\n",
    "grad(f)(2.)\n",
    "grad(f)(4.)"
   ]
  },
  {
   "cell_type": "code",
   "execution_count": null,
   "metadata": {
    "id": "wTspKZg1VDsn"
   },
   "outputs": [],
   "source": [
    "## get around the conditioning error by setting static args for x\n",
    "f_jit = jit(f, static_argnums=(0,))\n",
    "x = 2.\n",
    "\n",
    "make_jaxpr(f_jit, static_argnums=(0,))(x)"
   ]
  },
  {
   "cell_type": "code",
   "execution_count": 15,
   "metadata": {
    "colab": {
     "base_uri": "https://localhost:8080/"
    },
    "id": "q3vqdE4BVk5q",
    "outputId": "b7afbd56-8e5f-4452-956f-1c628828cbed"
   },
   "outputs": [
    {
     "data": {
      "text/plain": [
       "DeviceArray(57., dtype=float32)"
      ]
     },
     "execution_count": 15,
     "metadata": {},
     "output_type": "execute_result"
    }
   ],
   "source": [
    "## the range generator depends on the value provided\n",
    "def f(x, n):\n",
    "  y = 0.\n",
    "  for i in range(n):\n",
    "    y += x[i]\n",
    "  return y\n",
    "\n",
    "## using too many overhead static args will cause recompilation\n",
    "f_jit = jit(f, static_argnums=(1,)) # the n is set to static, uses a concrete value\n",
    "x = (jnp.array([2.,3.,4.]), 15)\n",
    "f_jit(*x)"
   ]
  },
  {
   "cell_type": "code",
   "execution_count": 17,
   "metadata": {
    "colab": {
     "base_uri": "https://localhost:8080/"
    },
    "id": "GIboc6tIWeEd",
    "outputId": "7f9f1c1c-ca0e-4d79-efd1-e81f48452272"
   },
   "outputs": [
    {
     "data": {
      "text/plain": [
       "DeviceArray(58., dtype=float32)"
      ]
     },
     "execution_count": 17,
     "metadata": {},
     "output_type": "execute_result"
    }
   ],
   "source": [
    "## SOLUTION: use low level api\n",
    "def f_fori(x, n):\n",
    "  body_fun = lambda i, val: val + x[i]\n",
    "  ## lax.fori_loop(start, final, fun, init_val)\n",
    "  return lax.fori_loop(0, n, body_fun, 0.)\n",
    "\n",
    "f_fori_jit = jit(f_fori)\n",
    "f_fori_jit(*x)"
   ]
  },
  {
   "cell_type": "code",
   "execution_count": null,
   "metadata": {
    "id": "iNRKMkt6fEuG"
   },
   "outputs": [],
   "source": [
    "def log2_if_rank_2(x):\n",
    "  if x.ndim == 2:\n",
    "    ln_x = jnp.log(x)\n",
    "    ln_2 = jnp.log(2.)\n",
    "    return ln_x / ln_2\n",
    "  else:\n",
    "    return x\n",
    "\n",
    "x = jnp.array([1,2,3])\n",
    "\n",
    "# this returns an arror\n",
    "make_jaxpr(log2_if_rank_2(x))"
   ]
  },
  {
   "cell_type": "code",
   "execution_count": null,
   "metadata": {
    "id": "PB4v0RgSgqBD"
   },
   "outputs": [],
   "source": [
    "jnp.divide(0., 0.) # returns NaN\n",
    "from jax.config import config\n",
    "config.update(\"jax_debug_nans\", True)"
   ]
  },
  {
   "cell_type": "code",
   "execution_count": null,
   "metadata": {
    "id": "dSRgku6wh1yN"
   },
   "outputs": [],
   "source": []
  }
 ],
 "metadata": {
  "colab": {
   "authorship_tag": "ABX9TyMp0Lf291pcCDlMTrcGQR6Z",
   "collapsed_sections": [],
   "include_colab_link": true,
   "name": "jax_low_level.ipynb",
   "provenance": []
  },
  "kernelspec": {
   "display_name": "Python 3",
   "language": "python",
   "name": "python3"
  },
  "language_info": {
   "codemirror_mode": {
    "name": "ipython",
    "version": 3
   },
   "file_extension": ".py",
   "mimetype": "text/x-python",
   "name": "python",
   "nbconvert_exporter": "python",
   "pygments_lexer": "ipython3",
   "version": "3.7.0"
  }
 },
 "nbformat": 4,
 "nbformat_minor": 4
}
