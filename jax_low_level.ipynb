{
  "nbformat": 4,
  "nbformat_minor": 0,
  "metadata": {
    "colab": {
      "name": "jax_low_level.ipynb",
      "provenance": [],
      "authorship_tag": "ABX9TyN2AJDZu5TWlZpEuxWk4Grz",
      "include_colab_link": true
    },
    "kernelspec": {
      "name": "python3",
      "display_name": "Python 3"
    },
    "language_info": {
      "name": "python"
    }
  },
  "cells": [
    {
      "cell_type": "markdown",
      "metadata": {
        "id": "view-in-github",
        "colab_type": "text"
      },
      "source": [
        "<a href=\"https://colab.research.google.com/github/kbrezinski/JAX-Practice/blob/main/jax_low_level.ipynb\" target=\"_parent\"><img src=\"https://colab.research.google.com/assets/colab-badge.svg\" alt=\"Open In Colab\"/></a>"
      ]
    },
    {
      "cell_type": "code",
      "metadata": {
        "id": "Wc3gyWu4uaXq"
      },
      "source": [
        "import jax.numpy as jnp\n",
        "import numpy as np\n",
        "\n",
        "# special transformations\n",
        "from jax import grad, jit, vmap, pmap\n",
        "# JAX low level APIs\n",
        "from jax import lax, make_jaxpr, random, device_put"
      ],
      "execution_count": 1,
      "outputs": []
    },
    {
      "cell_type": "code",
      "metadata": {
        "id": "ZwKvFaB0ujIb"
      },
      "source": [
        "# numpy <- lax <= XLA\n",
        "jnp.add(1, 1.) # handles mixed types\n",
        "lax.add(1, 1.0) # error, mixed types"
      ],
      "execution_count": null,
      "outputs": []
    },
    {
      "cell_type": "code",
      "metadata": {
        "colab": {
          "base_uri": "https://localhost:8080/"
        },
        "id": "N89xGXTgvFFm",
        "outputId": "a60c6bc0-5d8e-4415-d2ee-256a9e5568c8"
      },
      "source": [
        "# test out two implementations, 1 with jnp and 1 with lax\n",
        "x = jnp.array([1, 2, 1])\n",
        "y = jnp.ones(10)\n",
        "\n",
        "res1 = jnp.convolve(x, y)\n",
        "res2 = lax.conv_general_dilated(\n",
        "    x.reshape(1,1,3).astype(float),\n",
        "    y.reshape(1,1,10),\n",
        "    window_strides=(1,),\n",
        "    padding=[(len(y) - 1, len(y) - 1)]\n",
        ")\n",
        "\n",
        "res2[0][0] ## use [0][0] to return batched result"
      ],
      "execution_count": 9,
      "outputs": [
        {
          "output_type": "execute_result",
          "data": {
            "text/plain": [
              "DeviceArray([1., 3., 4., 4., 4., 4., 4., 4., 4., 4., 3., 1.], dtype=float32)"
            ]
          },
          "metadata": {},
          "execution_count": 9
        }
      ]
    },
    {
      "cell_type": "code",
      "metadata": {
        "id": "79DPyNPXxVwu"
      },
      "source": [
        "# in Jax random numbers are stateful, need to be passed in as args\n",
        "k = random.PRNGKey(2021)"
      ],
      "execution_count": 12,
      "outputs": []
    },
    {
      "cell_type": "code",
      "metadata": {
        "id": "adPWESn_vetc"
      },
      "source": [
        "# small differences in time taken for normal and jitted versions\n",
        "def norm(X):\n",
        "  X = X - X.mean(0)\n",
        "  return X / X.std(0)\n",
        "\n",
        "norm_compiled = jit(norm)\n",
        "X = random.normal(k, (10000, 100), dtype=jnp.float32)"
      ],
      "execution_count": 16,
      "outputs": []
    },
    {
      "cell_type": "code",
      "metadata": {
        "colab": {
          "base_uri": "https://localhost:8080/"
        },
        "id": "5T932gDcxIKI",
        "outputId": "1dad6dd6-e7b0-47b8-898b-babe88c29c5e"
      },
      "source": [
        "# test an example of a jitted and non-jitted fn to see what jit allows\n",
        "def get_negative(x):\n",
        "  return x[x < 0]\n",
        "\n",
        "x = random.normal(k, (10,), dtype=jnp.float32)\n",
        "\n",
        "jit(get_negative)(x) # returns error, differnent potential sizes confuses jit"
      ],
      "execution_count": 18,
      "outputs": [
        {
          "output_type": "execute_result",
          "data": {
            "text/plain": [
              "DeviceArray([-1.906434  , -0.04492167, -0.5956922 , -0.3326311 ,\n",
              "             -2.6711135 ], dtype=float32)"
            ]
          },
          "metadata": {},
          "execution_count": 18
        }
      ]
    },
    {
      "cell_type": "code",
      "metadata": {
        "id": "h-iIHV39zJLJ"
      },
      "source": [
        ""
      ],
      "execution_count": null,
      "outputs": []
    }
  ]
}