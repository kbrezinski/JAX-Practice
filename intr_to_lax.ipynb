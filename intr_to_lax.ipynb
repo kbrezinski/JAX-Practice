{
  "nbformat": 4,
  "nbformat_minor": 0,
  "metadata": {
    "colab": {
      "name": "complexity_MLP",
      "provenance": [],
      "authorship_tag": "ABX9TyMEabEc2QDlpFfORqxryKTn",
      "include_colab_link": true
    },
    "kernelspec": {
      "name": "python3",
      "display_name": "Python 3"
    },
    "language_info": {
      "name": "python"
    }
  },
  "cells": [
    {
      "cell_type": "markdown",
      "metadata": {
        "id": "view-in-github",
        "colab_type": "text"
      },
      "source": [
        "<a href=\"https://colab.research.google.com/github/kbrezinski/GAT-Malware/blob/main/intr_to_lax.ipynb\" target=\"_parent\"><img src=\"https://colab.research.google.com/assets/colab-badge.svg\" alt=\"Open In Colab\"/></a>"
      ]
    },
    {
      "cell_type": "code",
      "source": [
        "!pip install --upgrade -q git+https://github.com/google/flax.git"
      ],
      "metadata": {
        "colab": {
          "base_uri": "https://localhost:8080/"
        },
        "id": "9cvoG9tZgvXf",
        "outputId": "8c28eb1d-a97f-4f83-a41d-ba07ed4a8816"
      },
      "execution_count": 8,
      "outputs": [
        {
          "output_type": "stream",
          "name": "stdout",
          "text": [
            "\u001b[K     |████████████████████████████████| 136 kB 8.3 MB/s \n",
            "\u001b[K     |████████████████████████████████| 65 kB 2.3 MB/s \n",
            "\u001b[?25h  Building wheel for flax (setup.py) ... \u001b[?25l\u001b[?25hdone\n"
          ]
        }
      ]
    },
    {
      "cell_type": "code",
      "execution_count": 26,
      "metadata": {
        "id": "RWbPwnMQPk-E"
      },
      "outputs": [],
      "source": [
        "import jax\n",
        "import flax\n",
        "import optax\n",
        "import numpy as np\n",
        "import jax.numpy as jnp\n",
        "\n",
        "from flax import linen as nn\n",
        "from flax.core import freeze, unfreeze\n",
        "from jax import jit, vmap, pmap, grad, value_and_grad\n",
        "\n",
        "from torchvision.datasets import MNIST\n",
        "from torch.utils.data import DataLoader"
      ]
    },
    {
      "cell_type": "code",
      "source": [
        "def init_model(layer_widths, parent_key):\n",
        "\n",
        "  def random_layer_params(n_in, n_out, key, scale=1e-1):\n",
        "    k1, k2 = jax.random.split(key)\n",
        "    return (scale * jax.random.normal(k1, (n_out, n_in)),\n",
        "            scale * jax.random.normal(k2, (n_out, )))\n",
        "    \n",
        "  # split keys for each layer\n",
        "  keys = jax.random.split(parent_key, num=len(layer_widths) - 1)\n",
        "\n",
        "  return [random_layer_params(n_in, n_out, key)\n",
        "        for n_in, n_out, key in zip(layer_widths[:-1], layer_widths[1:], keys)]\n",
        "\n",
        "def predict(params, x):\n",
        "  activations = x\n",
        "\n",
        "  for w, b in params[:-1]:\n",
        "    activations = jax.nn.relu(jnp.dot(w, activations) + b)\n",
        "\n",
        "  final_w, final_b = params[-1]\n",
        "  logits = jnp.dot(final_w, activations) + final_b\n",
        "  return jax.nn.sigmoid(logits)\n",
        "\n",
        "def accuracy(params, x, y):\n",
        "  preds = batched_predict(params, x)\n",
        "  predicted_class = jnp.round(preds)\n",
        "  return jnp.mean(predicted_class == y)\n",
        "\n",
        "def loss(params, x, y, eps=1e-14):\n",
        "  preds = batched_predict(params, x)\n",
        "  preds = jnp.clip(preds, eps, 1 - eps)  # bound the probabilities to avoid log(0)\n",
        "  return -jnp.mean(y * jnp.log(preds) + (1 - y) * jnp.log(1 - preds))\n",
        "\n",
        "@jit\n",
        "def update(params, x, y, lr=1e-5):\n",
        "  curr_loss, grads = value_and_grad(loss)(params, x, y)\n",
        "  return curr_loss, jax.tree_multimap(lambda p, g: p - lr*g, params, grads)\n",
        "\n",
        "# make bce_loss for \n",
        "def make_bce_loss(xs, ys):\n",
        "\n",
        "  def bce_loss(params):\n",
        "    def cross_entropy(x, y):\n",
        "      preds = model.apply(params, x)\n",
        "      return y * jnp.log(preds) + (1 - y) * jnp.log(1 - preds)\n",
        "    return jnp.mean(jax.vmap(cross_entropy)(xs, ys), axis=0)\n",
        "\n",
        "  return jax.jit(bce_loss)\n",
        "\n",
        "batched_predict = vmap(predict, in_axes=(None, 0))"
      ],
      "metadata": {
        "id": "DC5aw30SPrE_"
      },
      "execution_count": 36,
      "outputs": []
    },
    {
      "cell_type": "code",
      "source": [
        "from sklearn.datasets import make_blobs\n",
        "import matplotlib.pyplot as plt\n",
        "\n",
        "# constants\n",
        "seed = 2021\n",
        "feature_dim = 3\n",
        "output_dim = 1\n",
        "parent_key = jax.jax.random.PRNGKey(1001)\n",
        "\n",
        "# Generate fake data based on blobs with 2 features\n",
        "centers = [[1]*feature_dim, [2]*feature_dim]\n",
        "X, y = make_blobs(n_samples=[500, 500], centers=centers, cluster_std=1.)"
      ],
      "metadata": {
        "id": "4NAv3DfqXJ7c"
      },
      "execution_count": 37,
      "outputs": []
    },
    {
      "cell_type": "code",
      "source": [
        "model = nn.Dense(features=output_dim)\n",
        "params = model.init(parent_key, X)\n",
        "bce_loss_fn = make_bce_loss(X, y)\n",
        "curr_loss, grads = jax.value_and_grad(bce_loss_fn)(params)"
      ],
      "metadata": {
        "colab": {
          "base_uri": "https://localhost:8080/",
          "height": 527
        },
        "id": "prYA6Xxgvuxn",
        "outputId": "faed06ba-72dd-444e-b674-a1fe9ba9401b"
      },
      "execution_count": 41,
      "outputs": [
        {
          "output_type": "error",
          "ename": "TypeError",
          "evalue": "ignored",
          "traceback": [
            "\u001b[0;31m---------------------------------------------------------------------------\u001b[0m",
            "\u001b[0;31mUnfilteredStackTrace\u001b[0m                      Traceback (most recent call last)",
            "\u001b[0;32m<ipython-input-41-60bce6d16329>\u001b[0m in \u001b[0;36m<module>\u001b[0;34m()\u001b[0m\n\u001b[1;32m      3\u001b[0m \u001b[0mbce_loss_fn\u001b[0m \u001b[0;34m=\u001b[0m \u001b[0mmake_bce_loss\u001b[0m\u001b[0;34m(\u001b[0m\u001b[0mX\u001b[0m\u001b[0;34m,\u001b[0m \u001b[0my\u001b[0m\u001b[0;34m)\u001b[0m\u001b[0;34m\u001b[0m\u001b[0;34m\u001b[0m\u001b[0m\n\u001b[0;32m----> 4\u001b[0;31m \u001b[0mcurr_loss\u001b[0m\u001b[0;34m,\u001b[0m \u001b[0mgrads\u001b[0m \u001b[0;34m=\u001b[0m \u001b[0mjax\u001b[0m\u001b[0;34m.\u001b[0m\u001b[0mvalue_and_grad\u001b[0m\u001b[0;34m(\u001b[0m\u001b[0mbce_loss_fn\u001b[0m\u001b[0;34m)\u001b[0m\u001b[0;34m(\u001b[0m\u001b[0mparams\u001b[0m\u001b[0;34m)\u001b[0m\u001b[0;34m\u001b[0m\u001b[0;34m\u001b[0m\u001b[0m\n\u001b[0m",
            "\u001b[0;32m/usr/local/lib/python3.7/dist-packages/jax/_src/traceback_util.py\u001b[0m in \u001b[0;36mreraise_with_filtered_traceback\u001b[0;34m(*args, **kwargs)\u001b[0m\n\u001b[1;32m    161\u001b[0m     \u001b[0;32mtry\u001b[0m\u001b[0;34m:\u001b[0m\u001b[0;34m\u001b[0m\u001b[0;34m\u001b[0m\u001b[0m\n\u001b[0;32m--> 162\u001b[0;31m       \u001b[0;32mreturn\u001b[0m \u001b[0mfun\u001b[0m\u001b[0;34m(\u001b[0m\u001b[0;34m*\u001b[0m\u001b[0margs\u001b[0m\u001b[0;34m,\u001b[0m \u001b[0;34m**\u001b[0m\u001b[0mkwargs\u001b[0m\u001b[0;34m)\u001b[0m\u001b[0;34m\u001b[0m\u001b[0;34m\u001b[0m\u001b[0m\n\u001b[0m\u001b[1;32m    163\u001b[0m     \u001b[0;32mexcept\u001b[0m \u001b[0mException\u001b[0m \u001b[0;32mas\u001b[0m \u001b[0me\u001b[0m\u001b[0;34m:\u001b[0m\u001b[0;34m\u001b[0m\u001b[0;34m\u001b[0m\u001b[0m\n",
            "\u001b[0;32m/usr/local/lib/python3.7/dist-packages/jax/_src/api.py\u001b[0m in \u001b[0;36mvalue_and_grad_f\u001b[0;34m(*args, **kwargs)\u001b[0m\n\u001b[1;32m    996\u001b[0m           f_partial, *dyn_args, has_aux=True, reduce_axes=reduce_axes)\n\u001b[0;32m--> 997\u001b[0;31m     \u001b[0m_check_scalar\u001b[0m\u001b[0;34m(\u001b[0m\u001b[0mans\u001b[0m\u001b[0;34m)\u001b[0m\u001b[0;34m\u001b[0m\u001b[0;34m\u001b[0m\u001b[0m\n\u001b[0m\u001b[1;32m    998\u001b[0m     \u001b[0mdtype\u001b[0m \u001b[0;34m=\u001b[0m \u001b[0mdtypes\u001b[0m\u001b[0;34m.\u001b[0m\u001b[0mresult_type\u001b[0m\u001b[0;34m(\u001b[0m\u001b[0mans\u001b[0m\u001b[0;34m)\u001b[0m\u001b[0;34m\u001b[0m\u001b[0;34m\u001b[0m\u001b[0m\n",
            "\u001b[0;32m/usr/local/lib/python3.7/dist-packages/jax/_src/api.py\u001b[0m in \u001b[0;36m_check_scalar\u001b[0;34m(x)\u001b[0m\n\u001b[1;32m   1017\u001b[0m       \u001b[0;32mif\u001b[0m \u001b[0maval\u001b[0m\u001b[0;34m.\u001b[0m\u001b[0mshape\u001b[0m \u001b[0;34m!=\u001b[0m \u001b[0;34m(\u001b[0m\u001b[0;34m)\u001b[0m\u001b[0;34m:\u001b[0m\u001b[0;34m\u001b[0m\u001b[0;34m\u001b[0m\u001b[0m\n\u001b[0;32m-> 1018\u001b[0;31m         \u001b[0;32mraise\u001b[0m \u001b[0mTypeError\u001b[0m\u001b[0;34m(\u001b[0m\u001b[0mmsg\u001b[0m\u001b[0;34m(\u001b[0m\u001b[0;34mf\"had shape: {aval.shape}\"\u001b[0m\u001b[0;34m)\u001b[0m\u001b[0;34m)\u001b[0m\u001b[0;34m\u001b[0m\u001b[0;34m\u001b[0m\u001b[0m\n\u001b[0m\u001b[1;32m   1019\u001b[0m     \u001b[0;32melse\u001b[0m\u001b[0;34m:\u001b[0m\u001b[0;34m\u001b[0m\u001b[0;34m\u001b[0m\u001b[0m\n",
            "\u001b[0;31mUnfilteredStackTrace\u001b[0m: TypeError: Gradient only defined for scalar-output functions. Output had shape: (1,).\n\nThe stack trace below excludes JAX-internal frames.\nThe preceding is the original exception that occurred, unmodified.\n\n--------------------",
            "\nThe above exception was the direct cause of the following exception:\n",
            "\u001b[0;31mTypeError\u001b[0m                                 Traceback (most recent call last)",
            "\u001b[0;32m<ipython-input-41-60bce6d16329>\u001b[0m in \u001b[0;36m<module>\u001b[0;34m()\u001b[0m\n\u001b[1;32m      2\u001b[0m \u001b[0mparams\u001b[0m \u001b[0;34m=\u001b[0m \u001b[0mmodel\u001b[0m\u001b[0;34m.\u001b[0m\u001b[0minit\u001b[0m\u001b[0;34m(\u001b[0m\u001b[0mparent_key\u001b[0m\u001b[0;34m,\u001b[0m \u001b[0mX\u001b[0m\u001b[0;34m)\u001b[0m\u001b[0;34m\u001b[0m\u001b[0;34m\u001b[0m\u001b[0m\n\u001b[1;32m      3\u001b[0m \u001b[0mbce_loss_fn\u001b[0m \u001b[0;34m=\u001b[0m \u001b[0mmake_bce_loss\u001b[0m\u001b[0;34m(\u001b[0m\u001b[0mX\u001b[0m\u001b[0;34m,\u001b[0m \u001b[0my\u001b[0m\u001b[0;34m)\u001b[0m\u001b[0;34m\u001b[0m\u001b[0;34m\u001b[0m\u001b[0m\n\u001b[0;32m----> 4\u001b[0;31m \u001b[0mcurr_loss\u001b[0m\u001b[0;34m,\u001b[0m \u001b[0mgrads\u001b[0m \u001b[0;34m=\u001b[0m \u001b[0mjax\u001b[0m\u001b[0;34m.\u001b[0m\u001b[0mvalue_and_grad\u001b[0m\u001b[0;34m(\u001b[0m\u001b[0mbce_loss_fn\u001b[0m\u001b[0;34m)\u001b[0m\u001b[0;34m(\u001b[0m\u001b[0mparams\u001b[0m\u001b[0;34m)\u001b[0m\u001b[0;34m\u001b[0m\u001b[0;34m\u001b[0m\u001b[0m\n\u001b[0m",
            "\u001b[0;32m/usr/local/lib/python3.7/dist-packages/jax/_src/api.py\u001b[0m in \u001b[0;36m_check_scalar\u001b[0;34m(x)\u001b[0m\n\u001b[1;32m   1016\u001b[0m     \u001b[0;32mif\u001b[0m \u001b[0misinstance\u001b[0m\u001b[0;34m(\u001b[0m\u001b[0maval\u001b[0m\u001b[0;34m,\u001b[0m \u001b[0mShapedArray\u001b[0m\u001b[0;34m)\u001b[0m\u001b[0;34m:\u001b[0m\u001b[0;34m\u001b[0m\u001b[0;34m\u001b[0m\u001b[0m\n\u001b[1;32m   1017\u001b[0m       \u001b[0;32mif\u001b[0m \u001b[0maval\u001b[0m\u001b[0;34m.\u001b[0m\u001b[0mshape\u001b[0m \u001b[0;34m!=\u001b[0m \u001b[0;34m(\u001b[0m\u001b[0;34m)\u001b[0m\u001b[0;34m:\u001b[0m\u001b[0;34m\u001b[0m\u001b[0;34m\u001b[0m\u001b[0m\n\u001b[0;32m-> 1018\u001b[0;31m         \u001b[0;32mraise\u001b[0m \u001b[0mTypeError\u001b[0m\u001b[0;34m(\u001b[0m\u001b[0mmsg\u001b[0m\u001b[0;34m(\u001b[0m\u001b[0;34mf\"had shape: {aval.shape}\"\u001b[0m\u001b[0;34m)\u001b[0m\u001b[0;34m)\u001b[0m\u001b[0;34m\u001b[0m\u001b[0;34m\u001b[0m\u001b[0m\n\u001b[0m\u001b[1;32m   1019\u001b[0m     \u001b[0;32melse\u001b[0m\u001b[0;34m:\u001b[0m\u001b[0;34m\u001b[0m\u001b[0;34m\u001b[0m\u001b[0m\n\u001b[1;32m   1020\u001b[0m       \u001b[0;32mraise\u001b[0m \u001b[0mTypeError\u001b[0m\u001b[0;34m(\u001b[0m\u001b[0mmsg\u001b[0m\u001b[0;34m(\u001b[0m\u001b[0;34mf\"had abstract value {aval}\"\u001b[0m\u001b[0;34m)\u001b[0m\u001b[0;34m)\u001b[0m\u001b[0;34m\u001b[0m\u001b[0;34m\u001b[0m\u001b[0m\n",
            "\u001b[0;31mTypeError\u001b[0m: Gradient only defined for scalar-output functions. Output had shape: (1,)."
          ]
        }
      ]
    },
    {
      "cell_type": "code",
      "source": [
        "# init testing/training regime\n",
        "use_lax = False\n",
        "num_epochs = 1\n",
        "test_split = 0.2\n",
        "shuffle_idx = jax.random.permutation(parent_key, x=jnp.arange(len(X)))\n",
        "test_index = int(len(X) * (1 - test_split))\n",
        "\n",
        "# init model paramters depending on if using jax or lax\n",
        "if not use_lax:\n",
        "  params = init_model([feature_dim, 1, 1], parent_key)\n",
        "  print(jax.tree_map(lambda x: x.shape, params))\n",
        "else:\n",
        "  model = nn.Dense(features=output_dim)\n",
        "  params = model.init(parent_key, X)\n",
        "  optimizer = optax.adam(learning_rate=1e-2)\n",
        "  opt_state = optimizer.init(params)  # state handled externally\n",
        "\n",
        "## training loop\n",
        "for epoch in range(num_epochs):\n",
        "  \n",
        "  if not use_lax:\n",
        "    curr_loss, params = update(params, X[shuffle_idx[:test_index]], y[shuffle_idx[:test_index]])\n",
        "  else:\n",
        "    curr_loss, grads = value_and_grad_fn(params)\n",
        "    updates, opt_state = optimizer.update(grads, opt_state)\n",
        "    params = optax.apply_updates(params, updates)\n",
        "\n",
        "  if epoch % (num_epochs // 5) == 0:\n",
        "    print(f\"\\nEpoch: {epoch + 1}\")\n",
        "    print(f\"Loss: {curr_loss:.4f}\")\n",
        "    print(f\"Train Accuracy: {accuracy(params, X[shuffle_idx[:test_index]], y[shuffle_idx[:test_index]]):.4f}\")\n",
        "    print(f\"Test Accuracy: {accuracy(params, X[shuffle_idx[test_index:]], y[shuffle_idx[test_index:]]):.4f}\")"
      ],
      "metadata": {
        "colab": {
          "base_uri": "https://localhost:8080/"
        },
        "id": "MEAlKeE3aLDV",
        "outputId": "248f01a0-287e-461b-ad61-6ba1e4eb98ff"
      },
      "execution_count": null,
      "outputs": [
        {
          "output_type": "stream",
          "name": "stdout",
          "text": [
            "[((1, 3), (1,)), ((1, 1), (1,))]\n",
            "\n",
            "Epoch: 1\n",
            "Loss: 0.6942\n",
            "Train Accuracy: 0.4980\n",
            "Test Accuracy: 0.5091\n",
            "\n",
            "Epoch: 11\n",
            "Loss: 0.6942\n",
            "Train Accuracy: 0.4980\n",
            "Test Accuracy: 0.5091\n",
            "\n",
            "Epoch: 21\n",
            "Loss: 0.6942\n",
            "Train Accuracy: 0.4980\n",
            "Test Accuracy: 0.5091\n",
            "\n",
            "Epoch: 31\n",
            "Loss: 0.6942\n",
            "Train Accuracy: 0.4980\n",
            "Test Accuracy: 0.5091\n",
            "\n",
            "Epoch: 41\n",
            "Loss: 0.6942\n",
            "Train Accuracy: 0.4980\n",
            "Test Accuracy: 0.5091\n"
          ]
        }
      ]
    },
    {
      "cell_type": "code",
      "source": [
        "init = 505\n",
        "tmp = [i for i in range(init, init + 5)]\n",
        "parent_key = jax.jax.random.PRNGKey(509)\n",
        "params = init_model([feature_dim, 5, 1], parent_key)\n",
        "\n",
        "print(y[tmp])\n",
        "print(batched_predict(params, X[tmp]))\n",
        "print(loss(params, X[tmp], y[tmp]))\n",
        "print(accuracy(params, X[tmp], y[tmp]))\n",
        "params"
      ],
      "metadata": {
        "colab": {
          "base_uri": "https://localhost:8080/"
        },
        "id": "Y113XifVSeGI",
        "outputId": "559d1192-9b19-4be8-efc9-adcb40ba60a9"
      },
      "execution_count": null,
      "outputs": [
        {
          "output_type": "stream",
          "name": "stdout",
          "text": [
            "[0 0 1 1 1]\n",
            "[[0.5321062 ]\n",
            " [0.5346689 ]\n",
            " [0.53111476]\n",
            " [0.5281173 ]\n",
            " [0.5325882 ]]\n",
            "0.6824679\n",
            "0.59999996\n"
          ]
        },
        {
          "output_type": "execute_result",
          "data": {
            "text/plain": [
              "[(DeviceArray([[-0.17474912, -0.07796253, -0.03069317],\n",
              "               [-0.12151062,  0.03844729, -0.01764875],\n",
              "               [ 0.01983018, -0.0688489 ,  0.07098856],\n",
              "               [-0.17429875,  0.04671511,  0.01443747],\n",
              "               [ 0.04852775,  0.10632309, -0.02984036]], dtype=float32),\n",
              "  DeviceArray([-0.03619826, -0.00648518, -0.24387108, -0.14063235,\n",
              "               -0.00437354], dtype=float32)),\n",
              " (DeviceArray([[-0.0825086 , -0.01761603, -0.14344466, -0.03237919,\n",
              "                -0.06099894]], dtype=float32),\n",
              "  DeviceArray([0.14020397], dtype=float32))]"
            ]
          },
          "metadata": {},
          "execution_count": 53
        }
      ]
    },
    {
      "cell_type": "code",
      "source": [
        ""
      ],
      "metadata": {
        "id": "Pdtkt9tIWf1A"
      },
      "execution_count": null,
      "outputs": []
    }
  ]
}