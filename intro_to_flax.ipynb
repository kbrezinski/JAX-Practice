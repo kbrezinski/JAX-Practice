{
  "nbformat": 4,
  "nbformat_minor": 0,
  "metadata": {
    "colab": {
      "name": "intro_to_flax.ipynb",
      "provenance": [],
      "authorship_tag": "ABX9TyOtkiMOf9iqX42bH8iK2btJ",
      "include_colab_link": true
    },
    "kernelspec": {
      "name": "python3",
      "display_name": "Python 3"
    },
    "language_info": {
      "name": "python"
    }
  },
  "cells": [
    {
      "cell_type": "markdown",
      "metadata": {
        "id": "view-in-github",
        "colab_type": "text"
      },
      "source": [
        "<a href=\"https://colab.research.google.com/github/kbrezinski/JAX-Practice/blob/main/intro_to_flax.ipynb\" target=\"_parent\"><img src=\"https://colab.research.google.com/assets/colab-badge.svg\" alt=\"Open In Colab\"/></a>"
      ]
    },
    {
      "cell_type": "code",
      "execution_count": null,
      "metadata": {
        "colab": {
          "base_uri": "https://localhost:8080/"
        },
        "id": "WugX3b7YI4uE",
        "outputId": "f4b45c2a-9fd6-44c9-8685-26e5dc9340ec"
      },
      "outputs": [
        {
          "output_type": "stream",
          "name": "stdout",
          "text": [
            "\u001b[K     |████████████████████████████████| 138.5 MB 58 kB/s \n",
            "\u001b[K     |████████████████████████████████| 126 kB 5.1 MB/s \n",
            "\u001b[K     |████████████████████████████████| 65 kB 2.6 MB/s \n",
            "\u001b[?25h  Building wheel for flax (setup.py) ... \u001b[?25l\u001b[?25hdone\n",
            "  Building wheel for dm-haiku (setup.py) ... \u001b[?25l\u001b[?25hdone\n"
          ]
        }
      ],
      "source": [
        "# Install Flax and JAX\n",
        "!pip install --upgrade -q \"jax[cuda11_cudnn805]\" -f https://storage.googleapis.com/jax-releases/jax_releases.html\n",
        "!pip install --upgrade -q git+https://github.com/google/flax.git\n",
        "!pip install --upgrade -q git+https://github.com/deepmind/dm-haiku  # Haiku is here just for comparison purposes"
      ]
    },
    {
      "cell_type": "code",
      "source": [
        "import jax\n",
        "from jax import lax, random, numpy as jnp\n",
        "\n",
        "# NN lib built on top of JAX developed by Google Research (Brain team)\n",
        "# Flax was \"designed for flexibility\" hence the name (Flexibility + JAX -> Flax)\n",
        "import flax\n",
        "from flax.core import freeze, unfreeze\n",
        "from flax import linen as nn  # nn notation also used in PyTorch and in Flax's older API\n",
        "from flax.training import train_state  # a useful dataclass to keep train state\n",
        "\n",
        "# DeepMind's NN JAX lib - just for comparison purposes, we're not learning Haiku here\n",
        "import haiku as hk \n",
        "\n",
        "# JAX optimizers - a separate lib developed by DeepMind\n",
        "import optax\n",
        "\n",
        "# Flax doesn't have its own data loading functions - we'll be using PyTorch dataloaders\n",
        "from torchvision.datasets import MNIST\n",
        "from torch.utils.data import DataLoader\n",
        "\n",
        "# Python libs\n",
        "import functools  # useful utilities for functional programs\n",
        "from typing import Any, Callable, Sequence, Optional\n",
        "\n",
        "# Other important 3rd party libs\n",
        "import numpy as np\n",
        "import matplotlib.pyplot as plt"
      ],
      "metadata": {
        "id": "oxXDOo4BJGZq"
      },
      "execution_count": null,
      "outputs": []
    },
    {
      "cell_type": "code",
      "source": [
        "# init a new base model\n",
        "model = nn.Dense(features=5)\n",
        "nn.Dense.__bases__"
      ],
      "metadata": {
        "colab": {
          "base_uri": "https://localhost:8080/"
        },
        "id": "uCrPMwksJUO1",
        "outputId": "fde3652b-3bc4-49d2-bd52-3e1648047b53"
      },
      "execution_count": null,
      "outputs": [
        {
          "output_type": "execute_result",
          "data": {
            "text/plain": [
              "(flax.linen.module.Module,)"
            ]
          },
          "metadata": {},
          "execution_count": 4
        }
      ]
    },
    {
      "cell_type": "code",
      "source": [
        "# init random PRNG\n",
        "k1, k2 = jax.random.split(jax.random.PRNGKey(2022))\n",
        "x = jax.random.normal(k1, (10,))  # random (10, 1) dataset\n",
        "\n",
        "y, params = model.init_with_output(k2, x)  # or use init() to remove output y\n",
        "jax.tree_map(lambda x: x.shape, params)  # kernel is weight, biases are init and inferred shape of input\n",
        "\n",
        "# apply feedforward\n",
        "y = model.apply(params, x)"
      ],
      "metadata": {
        "id": "vF7jYOt0J5W0"
      },
      "execution_count": null,
      "outputs": []
    },
    {
      "cell_type": "code",
      "source": [
        ""
      ],
      "metadata": {
        "colab": {
          "base_uri": "https://localhost:8080/"
        },
        "id": "dA5r0_IuKW7P",
        "outputId": "1396c9ad-0b02-4c15-eb93-cc7da34da7ad"
      },
      "execution_count": null,
      "outputs": [
        {
          "output_type": "execute_result",
          "data": {
            "text/plain": [
              "DeviceArray([-1.1229506 ,  0.22319266,  1.4273638 , -1.3900615 ,\n",
              "             -1.0684718 ], dtype=float32)"
            ]
          },
          "metadata": {},
          "execution_count": 9
        }
      ]
    },
    {
      "cell_type": "code",
      "source": [
        ""
      ],
      "metadata": {
        "id": "MC3Jj-xgLceE"
      },
      "execution_count": null,
      "outputs": []
    }
  ]
}